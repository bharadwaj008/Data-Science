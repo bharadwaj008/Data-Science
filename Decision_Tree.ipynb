{
 "cells": [
  {
   "cell_type": "markdown",
   "id": "f2363c0b",
   "metadata": {},
   "source": [
    "# Decision Tree classifier"
   ]
  },
  {
   "cell_type": "code",
   "execution_count": 1,
   "id": "6a3b49d4",
   "metadata": {},
   "outputs": [],
   "source": [
    "from sklearn.tree import DecisionTreeClassifier\n",
    "from sklearn import tree\n",
    "import pandas as pd\n",
    "import numpy as np\n",
    "from sklearn.model_selection import train_test_split\n",
    "import matplotlib.pyplot as plt\n",
    "from sklearn.tree import export_text\n",
    "import graphviz\n",
    "from sklearn.metrics import confusion_matrix\n",
    "import seaborn as sns\n",
    "from matplotlib import pyplot as plt"
   ]
  },
  {
   "cell_type": "markdown",
   "id": "c929ed2a",
   "metadata": {},
   "source": [
    "https://youtu.be/_L39rN6gz7Y?si=9ChJbb1XQa9XtBQM\n",
    "statquest decision tree video\n",
    "good explaination\n",
    "---------------------\n",
    "https://tungmphung.com/information-gain-gain-ratio-and-gini-index/\n",
    "\n",
    "excellent info about information gain, entropy, gini index, gini ratio\n",
    "\n",
    "https://www.kdnuggets.com/2020/01/decision-tree-algorithm-explained.html#:~:text=The%20decision%20tree%20splits%20the,in%20most%20homogeneous%20sub%2Dnodes.&text=The%20ID3%20algorithm%20builds%20decision,possible%20branches%20with%20no%20backtracking\n",
    "\n",
    "\n",
    "decision tree good info"
   ]
  },
  {
   "cell_type": "code",
   "execution_count": 2,
   "id": "4ad608ea",
   "metadata": {},
   "outputs": [
    {
     "name": "stdout",
     "output_type": "stream",
     "text": [
      "   PassengerId  Survived  Pclass  \\\n",
      "0            1         0       3   \n",
      "1            2         1       1   \n",
      "2            3         1       3   \n",
      "3            4         1       1   \n",
      "4            5         0       3   \n",
      "\n",
      "                                                Name     Sex   Age  SibSp  \\\n",
      "0                            Braund, Mr. Owen Harris    male  22.0      1   \n",
      "1  Cumings, Mrs. John Bradley (Florence Briggs Th...  female  38.0      1   \n",
      "2                             Heikkinen, Miss. Laina  female  26.0      0   \n",
      "3       Futrelle, Mrs. Jacques Heath (Lily May Peel)  female  35.0      1   \n",
      "4                           Allen, Mr. William Henry    male  35.0      0   \n",
      "\n",
      "   Parch            Ticket     Fare Cabin Embarked  \n",
      "0      0         A/5 21171   7.2500   NaN        S  \n",
      "1      0          PC 17599  71.2833   C85        C  \n",
      "2      0  STON/O2. 3101282   7.9250   NaN        S  \n",
      "3      0            113803  53.1000  C123        S  \n",
      "4      0            373450   8.0500   NaN        S  \n"
     ]
    }
   ],
   "source": [
    "titanic_ds = pd.read_csv('titanic.csv')\n",
    "print(titanic_ds.head())\n",
    "target = titanic_ds['Survived']\n",
    "titanic_ds = titanic_ds.drop(columns= ['PassengerId','Name','SibSp','Parch','Ticket','Embarked',\n",
    "                                       'Cabin','Survived'],\n",
    "                             errors = 'ignore')"
   ]
  },
  {
   "cell_type": "code",
   "execution_count": 3,
   "id": "2bbf3c6f",
   "metadata": {
    "scrolled": true
   },
   "outputs": [
    {
     "name": "stdout",
     "output_type": "stream",
     "text": [
      "Target Variable : \n",
      " 0      0\n",
      "1      1\n",
      "2      1\n",
      "3      1\n",
      "4      0\n",
      "      ..\n",
      "886    0\n",
      "887    1\n",
      "888    0\n",
      "889    1\n",
      "890    0\n",
      "Name: Survived, Length: 891, dtype: int64\n",
      "\n",
      "Training ds: \n",
      "      Pclass     Sex   Age     Fare\n",
      "0         3    male  22.0   7.2500\n",
      "1         1  female  38.0  71.2833\n",
      "2         3  female  26.0   7.9250\n",
      "3         1  female  35.0  53.1000\n",
      "4         3    male  35.0   8.0500\n",
      "..      ...     ...   ...      ...\n",
      "886       2    male  27.0  13.0000\n",
      "887       1  female  19.0  30.0000\n",
      "888       3  female   NaN  23.4500\n",
      "889       1    male  26.0  30.0000\n",
      "890       3    male  32.0   7.7500\n",
      "\n",
      "[891 rows x 4 columns]\n"
     ]
    }
   ],
   "source": [
    "print('Target Variable : \\n',target)\n",
    "print()\n",
    "print('Training ds: \\n',titanic_ds)\n"
   ]
  },
  {
   "cell_type": "code",
   "execution_count": 4,
   "id": "3b5cf5a2",
   "metadata": {},
   "outputs": [
    {
     "data": {
      "text/html": [
       "<div>\n",
       "<style scoped>\n",
       "    .dataframe tbody tr th:only-of-type {\n",
       "        vertical-align: middle;\n",
       "    }\n",
       "\n",
       "    .dataframe tbody tr th {\n",
       "        vertical-align: top;\n",
       "    }\n",
       "\n",
       "    .dataframe thead th {\n",
       "        text-align: right;\n",
       "    }\n",
       "</style>\n",
       "<table border=\"1\" class=\"dataframe\">\n",
       "  <thead>\n",
       "    <tr style=\"text-align: right;\">\n",
       "      <th></th>\n",
       "      <th>Pclass</th>\n",
       "      <th>Age</th>\n",
       "      <th>Fare</th>\n",
       "      <th>Sex_male</th>\n",
       "    </tr>\n",
       "  </thead>\n",
       "  <tbody>\n",
       "    <tr>\n",
       "      <th>0</th>\n",
       "      <td>3</td>\n",
       "      <td>22.0</td>\n",
       "      <td>7.2500</td>\n",
       "      <td>1</td>\n",
       "    </tr>\n",
       "    <tr>\n",
       "      <th>1</th>\n",
       "      <td>1</td>\n",
       "      <td>38.0</td>\n",
       "      <td>71.2833</td>\n",
       "      <td>0</td>\n",
       "    </tr>\n",
       "    <tr>\n",
       "      <th>2</th>\n",
       "      <td>3</td>\n",
       "      <td>26.0</td>\n",
       "      <td>7.9250</td>\n",
       "      <td>0</td>\n",
       "    </tr>\n",
       "    <tr>\n",
       "      <th>3</th>\n",
       "      <td>1</td>\n",
       "      <td>35.0</td>\n",
       "      <td>53.1000</td>\n",
       "      <td>0</td>\n",
       "    </tr>\n",
       "    <tr>\n",
       "      <th>4</th>\n",
       "      <td>3</td>\n",
       "      <td>35.0</td>\n",
       "      <td>8.0500</td>\n",
       "      <td>1</td>\n",
       "    </tr>\n",
       "    <tr>\n",
       "      <th>...</th>\n",
       "      <td>...</td>\n",
       "      <td>...</td>\n",
       "      <td>...</td>\n",
       "      <td>...</td>\n",
       "    </tr>\n",
       "    <tr>\n",
       "      <th>886</th>\n",
       "      <td>2</td>\n",
       "      <td>27.0</td>\n",
       "      <td>13.0000</td>\n",
       "      <td>1</td>\n",
       "    </tr>\n",
       "    <tr>\n",
       "      <th>887</th>\n",
       "      <td>1</td>\n",
       "      <td>19.0</td>\n",
       "      <td>30.0000</td>\n",
       "      <td>0</td>\n",
       "    </tr>\n",
       "    <tr>\n",
       "      <th>888</th>\n",
       "      <td>3</td>\n",
       "      <td>NaN</td>\n",
       "      <td>23.4500</td>\n",
       "      <td>0</td>\n",
       "    </tr>\n",
       "    <tr>\n",
       "      <th>889</th>\n",
       "      <td>1</td>\n",
       "      <td>26.0</td>\n",
       "      <td>30.0000</td>\n",
       "      <td>1</td>\n",
       "    </tr>\n",
       "    <tr>\n",
       "      <th>890</th>\n",
       "      <td>3</td>\n",
       "      <td>32.0</td>\n",
       "      <td>7.7500</td>\n",
       "      <td>1</td>\n",
       "    </tr>\n",
       "  </tbody>\n",
       "</table>\n",
       "<p>891 rows × 4 columns</p>\n",
       "</div>"
      ],
      "text/plain": [
       "     Pclass   Age     Fare  Sex_male\n",
       "0         3  22.0   7.2500         1\n",
       "1         1  38.0  71.2833         0\n",
       "2         3  26.0   7.9250         0\n",
       "3         1  35.0  53.1000         0\n",
       "4         3  35.0   8.0500         1\n",
       "..      ...   ...      ...       ...\n",
       "886       2  27.0  13.0000         1\n",
       "887       1  19.0  30.0000         0\n",
       "888       3   NaN  23.4500         0\n",
       "889       1  26.0  30.0000         1\n",
       "890       3  32.0   7.7500         1\n",
       "\n",
       "[891 rows x 4 columns]"
      ]
     },
     "execution_count": 4,
     "metadata": {},
     "output_type": "execute_result"
    }
   ],
   "source": [
    "#converting sex feature to number\n",
    "titanic_ds = pd.get_dummies(data = titanic_ds,columns = ['Sex'],drop_first = True)\n",
    "titanic_ds\n"
   ]
  },
  {
   "cell_type": "code",
   "execution_count": 5,
   "id": "b721a6b6",
   "metadata": {},
   "outputs": [
    {
     "name": "stdout",
     "output_type": "stream",
     "text": [
      "unique values in the Pclass column: \n",
      " [1 2 3]\n",
      "[ 0.42  0.67  0.75  0.83  0.92  1.    2.    3.    4.    5.    6.    7.\n",
      "  8.    9.   10.   11.   12.   13.   14.   14.5  15.   16.   17.   18.\n",
      " 19.   20.   20.5  21.   22.   23.   23.5  24.   24.5  25.   26.   27.\n",
      " 28.   28.5  29.   30.   30.5  31.   32.   32.5  33.   34.   34.5  35.\n",
      " 36.   36.5  37.   38.   39.   40.   40.5  41.   42.   43.   44.   45.\n",
      " 45.5  46.   47.   48.   49.   50.   51.   52.   53.   54.   55.   55.5\n",
      " 56.   57.   58.   59.   60.   61.   62.   63.   64.   65.   66.   70.\n",
      " 70.5  71.   74.   80.     nan]\n",
      "[  0.       4.0125   5.       6.2375   6.4375   6.45     6.4958   6.75\n",
      "   6.8583   6.95     6.975    7.0458   7.05     7.0542   7.125    7.1417\n",
      "   7.225    7.2292   7.25     7.3125   7.4958   7.5208   7.55     7.6292\n",
      "   7.65     7.725    7.7292   7.7333   7.7375   7.7417   7.75     7.775\n",
      "   7.7875   7.7958   7.8      7.8292   7.8542   7.875    7.8792   7.8875\n",
      "   7.8958   7.925    8.0292   8.05     8.1125   8.1375   8.1583   8.3\n",
      "   8.3625   8.4042   8.4333   8.4583   8.5167   8.6542   8.6625   8.6833\n",
      "   8.7125   8.85     9.       9.2167   9.225    9.35     9.475    9.4833\n",
      "   9.5      9.5875   9.825    9.8375   9.8417   9.8458  10.1708  10.4625\n",
      "  10.5     10.5167  11.1333  11.2417  11.5     12.      12.275   12.2875\n",
      "  12.35    12.475   12.525   12.65    12.875   13.      13.4167  13.5\n",
      "  13.7917  13.8583  13.8625  14.      14.1083  14.4     14.4542  14.4583\n",
      "  14.5     15.      15.0458  15.05    15.1     15.2458  15.5     15.55\n",
      "  15.7417  15.75    15.85    15.9     16.      16.1     16.7     17.4\n",
      "  17.8     18.      18.75    18.7875  19.2583  19.5     19.9667  20.2125\n",
      "  20.25    20.525   20.575   21.      21.075   21.6792  22.025   22.3583\n",
      "  22.525   23.      23.25    23.45    24.      24.15    25.4667  25.5875\n",
      "  25.925   25.9292  26.      26.25    26.2833  26.2875  26.3875  26.55\n",
      "  27.      27.7208  27.75    27.9     28.5     28.7125  29.      29.125\n",
      "  29.7     30.      30.0708  30.5     30.6958  31.      31.275   31.3875\n",
      "  32.3208  32.5     33.      33.5     34.0208  34.375   34.6542  35.\n",
      "  35.5     36.75    37.0042  38.5     39.      39.4     39.6     39.6875\n",
      "  40.125   41.5792  42.4     46.9     47.1     49.5     49.5042  50.\n",
      "  50.4958  51.4792  51.8625  52.      52.5542  53.1     55.      55.4417\n",
      "  55.9     56.4958  56.9292  57.      57.9792  59.4     61.175   61.3792\n",
      "  61.9792  63.3583  65.      66.6     69.3     69.55    71.      71.2833\n",
      "  73.5     75.25    76.2917  76.7292  77.2875  77.9583  78.2667  78.85\n",
      "  79.2     79.65    80.      81.8583  82.1708  83.1583  83.475   86.5\n",
      "  89.1042  90.      91.0792  93.5    106.425  108.9    110.8833 113.275\n",
      " 120.     133.65   134.5    135.6333 146.5208 151.55   153.4625 164.8667\n",
      " 211.3375 211.5    221.7792 227.525  247.5208 262.375  263.     512.3292]\n",
      "[0 1]\n",
      "\n",
      "no.of missing values in age coulumn: \n",
      " 177\n"
     ]
    }
   ],
   "source": [
    "print('unique values in the Pclass column: \\n', np.unique(titanic_ds['Pclass']))\n",
    "print(np.unique(titanic_ds['Age']))\n",
    "print(np.unique(titanic_ds['Fare']))\n",
    "print(np.unique(titanic_ds['Sex_male']))\n",
    "print()\n",
    "print('no.of missing values in age coulumn: \\n',titanic_ds['Age'].isna().sum())\n"
   ]
  },
  {
   "cell_type": "code",
   "execution_count": 6,
   "id": "eb4b97ac",
   "metadata": {},
   "outputs": [
    {
     "name": "stdout",
     "output_type": "stream",
     "text": [
      "no.of missing values in age coulumn: \n",
      " 0\n"
     ]
    }
   ],
   "source": [
    "age_median = titanic_ds['Age'].mean()\n",
    "titanic_ds['Age'].fillna(age_median,inplace = True)\n",
    "titanic_ds\n",
    "#median accuracy - 76.5\n",
    "#mean accuarcyy - 77.6\n",
    "print('no.of missing values in age coulumn: \\n',titanic_ds['Age'].isna().sum())"
   ]
  },
  {
   "cell_type": "code",
   "execution_count": 7,
   "id": "41033227",
   "metadata": {},
   "outputs": [
    {
     "data": {
      "text/plain": [
       "0.8491620111731844"
      ]
     },
     "execution_count": 7,
     "metadata": {},
     "output_type": "execute_result"
    }
   ],
   "source": [
    "Dt_clf = DecisionTreeClassifier(criterion = 'gini',min_samples_leaf=6)\n",
    "\n",
    "X_train,X_test,y_train,y_test = train_test_split(titanic_ds,target,test_size=0.2,random_state =10) \n",
    "Dt_clf.fit(X_train,y_train)\n",
    "Dt_clf.score(X_test,y_test)"
   ]
  },
  {
   "cell_type": "markdown",
   "id": "b55681c0",
   "metadata": {},
   "source": [
    "### Results:\n",
    "\n",
    "#with min_samples_leaf(indicates the minimum number of samples to be in the leaf) default = 1\n",
    "\n",
    "#filled na values with mean and used criterion = entropy got 78.77 accuracy\n",
    "\n",
    "#filled na values with mean and used criterion = gini got 79.33 accuracy\n",
    "\n",
    "#with min_samples_leaf = 3\n",
    "#filled na values with mean and used criterion = gini got 80.44 accuracy\n",
    "\n",
    "#with min_samples_leaf = 5\n",
    "#filled na values with mean and used criterion = gini got 82.68 accuracy\n",
    "\n",
    "#with min_samples_leaf = 6\n",
    "#filled na values with mean and used criterion = gini got 85.47 accuracy\n",
    "\n",
    "#with min_samples_leaf = 7\n",
    "#filled na values with mean and used criterion = gini got 82.68 accuracy\n",
    "\n",
    "#used min_samples_split but no use instead if we are increasing it, it's reducing the accuracy"
   ]
  },
  {
   "cell_type": "markdown",
   "id": "2a88aa95",
   "metadata": {},
   "source": [
    "### sklearn.metrics.confusion_matrix(y_true, y_pred, *, labels=None, sample_weight=None, normalize=None)\n",
    "\n",
    "Parameters:\n",
    "\n",
    "'y_true':array-like of shape (n_samples,)\n",
    "Ground truth (correct) target values.\n",
    "\n",
    "'y_pred':array-like of shape (n_samples,)\n",
    "Estimated targets as returned by a classifier.\n",
    "\n",
    "'labels':array-like of shape (n_classes), default=None\n",
    "List of labels to index the matrix. This may be used to reorder or select a subset of labels. If None is given, those that appear at least once in y_true or y_pred are used in sorted order.\n",
    "\n",
    "'sample_weight':array-like of shape (n_samples,), default=None\n",
    "Sample weights.\n",
    "\n",
    "New in version 0.18.\n",
    "\n",
    "'normalize':{‘true’, ‘pred’, ‘all’}, default=None\n",
    "Normalizes confusion matrix over the true (rows), predicted (columns) conditions or all the population. If None, confusion matrix will not be normalized.\n",
    "\n",
    "Returns:\n",
    "Cndarray of shape (n_classes, n_classes):\n",
    "\n",
    "Confusion matrix whose i-th row and j-th column entry indicates the number of samples with true label being i-th class and predicted label being j-th class."
   ]
  },
  {
   "cell_type": "code",
   "execution_count": 20,
   "id": "79931cf4",
   "metadata": {},
   "outputs": [
    {
     "data": {
      "image/png": "[encoded data removed]",
      "text/plain": [
       "<Figure size 640x480 with 2 Axes>"
      ]
     },
     "metadata": {},
     "output_type": "display_data"
    }
   ],
   "source": [
    "y_pred = Dt_clf.predict(X_test)\n",
    "cm = confusion_matrix(y_test, y_pred)\n",
    "sns.heatmap(data = cm,annot = True , fmt = 'g',cmap ='inferno')\n",
    "plt.xlabel('Predicted Value',fontsize = 13)\n",
    "plt.ylabel('Actual Value',fontsize=13)\n",
    "plt.title('Confusion Matrix for Decision Tree',fontsize = 17)\n",
    "plt.show()\n",
    "# Returns:\n",
    "# Cndarray of shape (n_classes, n_classes)\n",
    "# Confusion matrix whose i-th row and j-th column entry indicates the number of samples with true\n",
    "# label being i-th class and predicted label being j-th class."
   ]
  },
  {
   "cell_type": "code",
   "execution_count": 9,
   "id": "f96283b2",
   "metadata": {},
   "outputs": [
    {
     "data": {
      "image/png": "[encoded data removed]",
      "text/plain": [
       "<Figure size 640x480 with 1 Axes>"
      ]
     },
     "metadata": {},
     "output_type": "display_data"
    }
   ],
   "source": [
    "# Once trained, you can plot the tree with the plot_tree function:\n",
    "tree.plot_tree(Dt_clf)\n",
    "plt.show()"
   ]
  },
  {
   "cell_type": "code",
   "execution_count": 10,
   "id": "aeb4808a",
   "metadata": {},
   "outputs": [],
   "source": [
    "# dot_data = tree.export_graphviz(Dt_clf, out_file=None, \n",
    "#                       feature_names= titanic_ds.columns.tolist(),  \n",
    "                        \n",
    "#                       filled=True, rounded=True,  \n",
    "#                       special_characters=True)  \n",
    "# graph = graphviz.Source(dot_data)  \n",
    "# graph"
   ]
  },
  {
   "cell_type": "code",
   "execution_count": 11,
   "id": "42ff745b",
   "metadata": {},
   "outputs": [
    {
     "name": "stdout",
     "output_type": "stream",
     "text": [
      "|--- Sex_male <= 0.50\n",
      "|   |--- Pclass <= 2.50\n",
      "|   |   |--- Fare <= 26.12\n",
      "|   |   |   |--- Age <= 23.50\n",
      "|   |   |   |   |--- class: 1\n",
      "|   |   |   |--- Age >  23.50\n",
      "|   |   |   |   |--- Age <= 27.50\n",
      "|   |   |   |   |   |--- class: 1\n",
      "|   |   |   |   |--- Age >  27.50\n",
      "|   |   |   |   |   |--- Age <= 37.00\n",
      "|   |   |   |   |   |   |--- class: 1\n",
      "|   |   |   |   |   |--- Age >  37.00\n",
      "|   |   |   |   |   |   |--- Fare <= 13.25\n",
      "|   |   |   |   |   |   |   |--- class: 1\n",
      "|   |   |   |   |   |   |--- Fare >  13.25\n",
      "|   |   |   |   |   |   |   |--- class: 1\n",
      "|   |   |--- Fare >  26.12\n",
      "|   |   |   |--- Fare <= 143.59\n",
      "|   |   |   |   |--- class: 1\n",
      "|   |   |   |--- Fare >  143.59\n",
      "|   |   |   |   |--- Fare <= 188.10\n",
      "|   |   |   |   |   |--- class: 1\n",
      "|   |   |   |   |--- Fare >  188.10\n",
      "|   |   |   |   |   |--- class: 1\n",
      "|   |--- Pclass >  2.50\n",
      "|   |   |--- Fare <= 24.81\n",
      "|   |   |   |--- Age <= 29.85\n",
      "|   |   |   |   |--- Age <= 29.35\n",
      "|   |   |   |   |   |--- Age <= 6.50\n",
      "|   |   |   |   |   |   |--- Fare <= 16.22\n",
      "|   |   |   |   |   |   |   |--- class: 1\n",
      "|   |   |   |   |   |   |--- Fare >  16.22\n",
      "|   |   |   |   |   |   |   |--- class: 1\n",
      "|   |   |   |   |   |--- Age >  6.50\n",
      "|   |   |   |   |   |   |--- Fare <= 7.76\n",
      "|   |   |   |   |   |   |   |--- class: 1\n",
      "|   |   |   |   |   |   |--- Fare >  7.76\n",
      "|   |   |   |   |   |   |   |--- Age <= 23.50\n",
      "|   |   |   |   |   |   |   |   |--- Fare <= 12.85\n",
      "|   |   |   |   |   |   |   |   |   |--- Age <= 19.50\n",
      "|   |   |   |   |   |   |   |   |   |   |--- class: 1\n",
      "|   |   |   |   |   |   |   |   |   |--- Age >  19.50\n",
      "|   |   |   |   |   |   |   |   |   |   |--- class: 0\n",
      "|   |   |   |   |   |   |   |   |--- Fare >  12.85\n",
      "|   |   |   |   |   |   |   |   |   |--- class: 0\n",
      "|   |   |   |   |   |   |   |--- Age >  23.50\n",
      "|   |   |   |   |   |   |   |   |--- Fare <= 11.80\n",
      "|   |   |   |   |   |   |   |   |   |--- class: 0\n",
      "|   |   |   |   |   |   |   |   |--- Fare >  11.80\n",
      "|   |   |   |   |   |   |   |   |   |--- class: 1\n",
      "|   |   |   |   |--- Age >  29.35\n",
      "|   |   |   |   |   |--- Fare <= 14.98\n",
      "|   |   |   |   |   |   |--- Fare <= 7.85\n",
      "|   |   |   |   |   |   |   |--- class: 1\n",
      "|   |   |   |   |   |   |--- Fare >  7.85\n",
      "|   |   |   |   |   |   |   |--- class: 0\n",
      "|   |   |   |   |   |--- Fare >  14.98\n",
      "|   |   |   |   |   |   |--- class: 1\n",
      "|   |   |   |--- Age >  29.85\n",
      "|   |   |   |   |--- Age <= 36.00\n",
      "|   |   |   |   |   |--- class: 0\n",
      "|   |   |   |   |--- Age >  36.00\n",
      "|   |   |   |   |   |--- class: 0\n",
      "|   |   |--- Fare >  24.81\n",
      "|   |   |   |--- Fare <= 31.33\n",
      "|   |   |   |   |--- class: 0\n",
      "|   |   |   |--- Fare >  31.33\n",
      "|   |   |   |   |--- class: 0\n",
      "|--- Sex_male >  0.50\n",
      "|   |--- Pclass <= 1.50\n",
      "|   |   |--- Fare <= 26.14\n",
      "|   |   |   |--- class: 0\n",
      "|   |   |--- Fare >  26.14\n",
      "|   |   |   |--- Fare <= 30.60\n",
      "|   |   |   |   |--- Age <= 51.50\n",
      "|   |   |   |   |   |--- Fare <= 27.14\n",
      "|   |   |   |   |   |   |--- Age <= 35.50\n",
      "|   |   |   |   |   |   |   |--- class: 1\n",
      "|   |   |   |   |   |   |--- Age >  35.50\n",
      "|   |   |   |   |   |   |   |--- class: 1\n",
      "|   |   |   |   |   |--- Fare >  27.14\n",
      "|   |   |   |   |   |   |--- class: 0\n",
      "|   |   |   |   |--- Age >  51.50\n",
      "|   |   |   |   |   |--- class: 0\n",
      "|   |   |   |--- Fare >  30.60\n",
      "|   |   |   |   |--- Age <= 60.50\n",
      "|   |   |   |   |   |--- Fare <= 52.28\n",
      "|   |   |   |   |   |   |--- Fare <= 37.00\n",
      "|   |   |   |   |   |   |   |--- class: 0\n",
      "|   |   |   |   |   |   |--- Fare >  37.00\n",
      "|   |   |   |   |   |   |   |--- class: 0\n",
      "|   |   |   |   |   |--- Fare >  52.28\n",
      "|   |   |   |   |   |   |--- Fare <= 77.01\n",
      "|   |   |   |   |   |   |   |--- Age <= 30.00\n",
      "|   |   |   |   |   |   |   |   |--- class: 1\n",
      "|   |   |   |   |   |   |   |--- Age >  30.00\n",
      "|   |   |   |   |   |   |   |   |--- class: 0\n",
      "|   |   |   |   |   |   |--- Fare >  77.01\n",
      "|   |   |   |   |   |   |   |--- Fare <= 86.29\n",
      "|   |   |   |   |   |   |   |   |--- class: 0\n",
      "|   |   |   |   |   |   |   |--- Fare >  86.29\n",
      "|   |   |   |   |   |   |   |   |--- Age <= 32.35\n",
      "|   |   |   |   |   |   |   |   |   |--- class: 0\n",
      "|   |   |   |   |   |   |   |   |--- Age >  32.35\n",
      "|   |   |   |   |   |   |   |   |   |--- class: 1\n",
      "|   |   |   |   |--- Age >  60.50\n",
      "|   |   |   |   |   |--- class: 0\n",
      "|   |--- Pclass >  1.50\n",
      "|   |   |--- Age <= 13.00\n",
      "|   |   |   |--- Fare <= 20.80\n",
      "|   |   |   |   |--- class: 1\n",
      "|   |   |   |--- Fare >  20.80\n",
      "|   |   |   |   |--- Fare <= 39.34\n",
      "|   |   |   |   |   |--- class: 0\n",
      "|   |   |   |   |--- Fare >  39.34\n",
      "|   |   |   |   |   |--- class: 0\n",
      "|   |   |--- Age >  13.00\n",
      "|   |   |   |--- Fare <= 51.70\n",
      "|   |   |   |   |--- Fare <= 23.35\n",
      "|   |   |   |   |   |--- Fare <= 7.91\n",
      "|   |   |   |   |   |   |--- Age <= 29.35\n",
      "|   |   |   |   |   |   |   |--- Age <= 26.50\n",
      "|   |   |   |   |   |   |   |   |--- Age <= 19.50\n",
      "|   |   |   |   |   |   |   |   |   |--- class: 0\n",
      "|   |   |   |   |   |   |   |   |--- Age >  19.50\n",
      "|   |   |   |   |   |   |   |   |   |--- Fare <= 7.80\n",
      "|   |   |   |   |   |   |   |   |   |   |--- Age <= 21.50\n",
      "|   |   |   |   |   |   |   |   |   |   |   |--- class: 0\n",
      "|   |   |   |   |   |   |   |   |   |   |--- Age >  21.50\n",
      "|   |   |   |   |   |   |   |   |   |   |   |--- truncated branch of depth 3\n",
      "|   |   |   |   |   |   |   |   |   |--- Fare >  7.80\n",
      "|   |   |   |   |   |   |   |   |   |   |--- class: 0\n",
      "|   |   |   |   |   |   |   |--- Age >  26.50\n",
      "|   |   |   |   |   |   |   |   |--- Fare <= 7.83\n",
      "|   |   |   |   |   |   |   |   |   |--- class: 0\n",
      "|   |   |   |   |   |   |   |   |--- Fare >  7.83\n",
      "|   |   |   |   |   |   |   |   |   |--- class: 0\n",
      "|   |   |   |   |   |   |--- Age >  29.35\n",
      "|   |   |   |   |   |   |   |--- Age <= 29.85\n",
      "|   |   |   |   |   |   |   |   |--- Fare <= 7.80\n",
      "|   |   |   |   |   |   |   |   |   |--- Fare <= 7.74\n",
      "|   |   |   |   |   |   |   |   |   |   |--- Fare <= 7.23\n",
      "|   |   |   |   |   |   |   |   |   |   |   |--- class: 0\n",
      "|   |   |   |   |   |   |   |   |   |   |--- Fare >  7.23\n",
      "|   |   |   |   |   |   |   |   |   |   |   |--- truncated branch of depth 2\n",
      "|   |   |   |   |   |   |   |   |   |--- Fare >  7.74\n",
      "|   |   |   |   |   |   |   |   |   |   |--- class: 0\n",
      "|   |   |   |   |   |   |   |   |--- Fare >  7.80\n",
      "|   |   |   |   |   |   |   |   |   |--- class: 0\n",
      "|   |   |   |   |   |   |   |--- Age >  29.85\n",
      "|   |   |   |   |   |   |   |   |--- class: 0\n",
      "|   |   |   |   |   |--- Fare >  7.91\n",
      "|   |   |   |   |   |   |--- Fare <= 7.99\n",
      "|   |   |   |   |   |   |   |--- class: 0\n",
      "|   |   |   |   |   |   |--- Fare >  7.99\n",
      "|   |   |   |   |   |   |   |--- Age <= 31.50\n",
      "|   |   |   |   |   |   |   |   |--- Age <= 28.75\n",
      "|   |   |   |   |   |   |   |   |   |--- Age <= 20.50\n",
      "|   |   |   |   |   |   |   |   |   |   |--- Fare <= 8.10\n",
      "|   |   |   |   |   |   |   |   |   |   |   |--- class: 0\n",
      "|   |   |   |   |   |   |   |   |   |   |--- Fare >  8.10\n",
      "|   |   |   |   |   |   |   |   |   |   |   |--- truncated branch of depth 2\n",
      "|   |   |   |   |   |   |   |   |   |--- Age >  20.50\n",
      "|   |   |   |   |   |   |   |   |   |   |--- Age <= 25.50\n",
      "|   |   |   |   |   |   |   |   |   |   |   |--- class: 0\n",
      "|   |   |   |   |   |   |   |   |   |   |--- Age >  25.50\n",
      "|   |   |   |   |   |   |   |   |   |   |   |--- truncated branch of depth 2\n",
      "|   |   |   |   |   |   |   |   |--- Age >  28.75\n",
      "|   |   |   |   |   |   |   |   |   |--- Fare <= 8.08\n",
      "|   |   |   |   |   |   |   |   |   |   |--- class: 0\n",
      "|   |   |   |   |   |   |   |   |   |--- Fare >  8.08\n",
      "|   |   |   |   |   |   |   |   |   |   |--- Fare <= 15.37\n",
      "|   |   |   |   |   |   |   |   |   |   |   |--- truncated branch of depth 2\n",
      "|   |   |   |   |   |   |   |   |   |   |--- Fare >  15.37\n",
      "|   |   |   |   |   |   |   |   |   |   |   |--- class: 0\n",
      "|   |   |   |   |   |   |   |--- Age >  31.50\n",
      "|   |   |   |   |   |   |   |   |--- Fare <= 13.25\n",
      "|   |   |   |   |   |   |   |   |   |--- Fare <= 12.76\n",
      "|   |   |   |   |   |   |   |   |   |   |--- Age <= 44.50\n",
      "|   |   |   |   |   |   |   |   |   |   |   |--- class: 0\n",
      "|   |   |   |   |   |   |   |   |   |   |--- Age >  44.50\n",
      "|   |   |   |   |   |   |   |   |   |   |   |--- class: 0\n",
      "|   |   |   |   |   |   |   |   |   |--- Fare >  12.76\n",
      "|   |   |   |   |   |   |   |   |   |   |--- class: 0\n",
      "|   |   |   |   |   |   |   |   |--- Fare >  13.25\n",
      "|   |   |   |   |   |   |   |   |   |--- class: 0\n",
      "|   |   |   |   |--- Fare >  23.35\n",
      "|   |   |   |   |   |--- Age <= 32.25\n",
      "|   |   |   |   |   |   |--- Fare <= 33.69\n",
      "|   |   |   |   |   |   |   |--- class: 0\n",
      "|   |   |   |   |   |   |--- Fare >  33.69\n",
      "|   |   |   |   |   |   |   |--- class: 0\n",
      "|   |   |   |   |   |--- Age >  32.25\n",
      "|   |   |   |   |   |   |--- class: 0\n",
      "|   |   |   |--- Fare >  51.70\n",
      "|   |   |   |   |--- Fare <= 63.02\n",
      "|   |   |   |   |   |--- class: 1\n",
      "|   |   |   |   |--- Fare >  63.02\n",
      "|   |   |   |   |   |--- class: 0\n",
      "\n"
     ]
    }
   ],
   "source": [
    "# if we want to see the decision tree in the text format we can use export_text() function from \n",
    "# sklearn.tree\n",
    "ex_tr_te = export_text(Dt_clf,feature_names = titanic_ds.columns.tolist())\n",
    "print(ex_tr_te)"
   ]
  },
  {
   "cell_type": "markdown",
   "id": "cbe51c2b",
   "metadata": {},
   "source": [
    "## Random Forest"
   ]
  },
  {
   "cell_type": "code",
   "execution_count": 22,
   "id": "5aaddbc6",
   "metadata": {},
   "outputs": [],
   "source": [
    "from sklearn.ensemble import RandomForestClassifier\n",
    "from sklearn.datasets import load_digits\n"
   ]
  },
  {
   "cell_type": "code",
   "execution_count": 52,
   "id": "8b3ee4ba",
   "metadata": {},
   "outputs": [
    {
     "data": {
      "text/plain": [
       "['DESCR', 'data', 'feature_names', 'frame', 'images', 'target', 'target_names']"
      ]
     },
     "execution_count": 52,
     "metadata": {},
     "output_type": "execute_result"
    }
   ],
   "source": [
    "\n",
    "data = load_digits()\n",
    "dir(data)"
   ]
  },
  {
   "cell_type": "code",
   "execution_count": 24,
   "id": "4b16b272",
   "metadata": {},
   "outputs": [
    {
     "data": {
      "text/plain": [
       "array([[ 0.,  0.,  5., ...,  0.,  0.,  0.],\n",
       "       [ 0.,  0.,  0., ..., 10.,  0.,  0.],\n",
       "       [ 0.,  0.,  0., ..., 16.,  9.,  0.],\n",
       "       ...,\n",
       "       [ 0.,  0.,  1., ...,  6.,  0.,  0.],\n",
       "       [ 0.,  0.,  2., ..., 12.,  0.,  0.],\n",
       "       [ 0.,  0., 10., ..., 12.,  1.,  0.]])"
      ]
     },
     "execution_count": 24,
     "metadata": {},
     "output_type": "execute_result"
    }
   ],
   "source": [
    "data.data"
   ]
  },
  {
   "cell_type": "code",
   "execution_count": 34,
   "id": "d35a8a96",
   "metadata": {},
   "outputs": [
    {
     "name": "stdout",
     "output_type": "stream",
     "text": [
      "value:  1\n",
      "value:  2\n",
      "value:  3\n",
      "value:  4\n",
      "value:  5\n",
      "value:  6\n",
      "value:  7\n",
      "value:  8\n"
     ]
    },
    {
     "data": {
      "text/plain": [
       "<Figure size 640x480 with 0 Axes>"
      ]
     },
     "metadata": {},
     "output_type": "display_data"
    },
    {
     "data": {
      "image/png": "[encoded data removed]",
      "text/plain": [
       "<Figure size 480x480 with 1 Axes>"
      ]
     },
     "metadata": {},
     "output_type": "display_data"
    },
    {
     "data": {
      "image/png": "[encoded data removed]",
      "text/plain": [
       "<Figure size 480x480 with 1 Axes>"
      ]
     },
     "metadata": {},
     "output_type": "display_data"
    },
    {
     "data": {
      "image/png": "[encoded data removed]",
      "text/plain": [
       "<Figure size 480x480 with 1 Axes>"
      ]
     },
     "metadata": {},
     "output_type": "display_data"
    },
    {
     "data": {
      "image/png": "[encoded data removed]",
      "text/plain": [
       "<Figure size 480x480 with 1 Axes>"
      ]
     },
     "metadata": {},
     "output_type": "display_data"
    },
    {
     "data": {
      "image/png": "[encoded data removed]",
      "text/plain": [
       "<Figure size 480x480 with 1 Axes>"
      ]
     },
     "metadata": {},
     "output_type": "display_data"
    },
    {
     "data": {
      "image/png": "[encoded data removed]",
      "text/plain": [
       "<Figure size 480x480 with 1 Axes>"
      ]
     },
     "metadata": {},
     "output_type": "display_data"
    },
    {
     "data": {
      "image/png": "[encoded data removed]",
      "text/plain": [
       "<Figure size 480x480 with 1 Axes>"
      ]
     },
     "metadata": {},
     "output_type": "display_data"
    },
    {
     "data": {
      "image/png": "[encoded data removed]",
      "text/plain": [
       "<Figure size 480x480 with 1 Axes>"
      ]
     },
     "metadata": {},
     "output_type": "display_data"
    }
   ],
   "source": [
    "plt.gray()\n",
    "for i in np.arange(1,9):\n",
    "    print('value: ',data.target[i])\n",
    "    plt.matshow(data.images[i])\n",
    "    \n"
   ]
  },
  {
   "cell_type": "code",
   "execution_count": 35,
   "id": "2a7914da",
   "metadata": {},
   "outputs": [
    {
     "data": {
      "text/html": [
       "<div>\n",
       "<style scoped>\n",
       "    .dataframe tbody tr th:only-of-type {\n",
       "        vertical-align: middle;\n",
       "    }\n",
       "\n",
       "    .dataframe tbody tr th {\n",
       "        vertical-align: top;\n",
       "    }\n",
       "\n",
       "    .dataframe thead th {\n",
       "        text-align: right;\n",
       "    }\n",
       "</style>\n",
       "<table border=\"1\" class=\"dataframe\">\n",
       "  <thead>\n",
       "    <tr style=\"text-align: right;\">\n",
       "      <th></th>\n",
       "      <th>0</th>\n",
       "      <th>1</th>\n",
       "      <th>2</th>\n",
       "      <th>3</th>\n",
       "      <th>4</th>\n",
       "      <th>5</th>\n",
       "      <th>6</th>\n",
       "      <th>7</th>\n",
       "      <th>8</th>\n",
       "      <th>9</th>\n",
       "      <th>...</th>\n",
       "      <th>54</th>\n",
       "      <th>55</th>\n",
       "      <th>56</th>\n",
       "      <th>57</th>\n",
       "      <th>58</th>\n",
       "      <th>59</th>\n",
       "      <th>60</th>\n",
       "      <th>61</th>\n",
       "      <th>62</th>\n",
       "      <th>63</th>\n",
       "    </tr>\n",
       "  </thead>\n",
       "  <tbody>\n",
       "    <tr>\n",
       "      <th>0</th>\n",
       "      <td>0.0</td>\n",
       "      <td>0.0</td>\n",
       "      <td>5.0</td>\n",
       "      <td>13.0</td>\n",
       "      <td>9.0</td>\n",
       "      <td>1.0</td>\n",
       "      <td>0.0</td>\n",
       "      <td>0.0</td>\n",
       "      <td>0.0</td>\n",
       "      <td>0.0</td>\n",
       "      <td>...</td>\n",
       "      <td>0.0</td>\n",
       "      <td>0.0</td>\n",
       "      <td>0.0</td>\n",
       "      <td>0.0</td>\n",
       "      <td>6.0</td>\n",
       "      <td>13.0</td>\n",
       "      <td>10.0</td>\n",
       "      <td>0.0</td>\n",
       "      <td>0.0</td>\n",
       "      <td>0.0</td>\n",
       "    </tr>\n",
       "    <tr>\n",
       "      <th>1</th>\n",
       "      <td>0.0</td>\n",
       "      <td>0.0</td>\n",
       "      <td>0.0</td>\n",
       "      <td>12.0</td>\n",
       "      <td>13.0</td>\n",
       "      <td>5.0</td>\n",
       "      <td>0.0</td>\n",
       "      <td>0.0</td>\n",
       "      <td>0.0</td>\n",
       "      <td>0.0</td>\n",
       "      <td>...</td>\n",
       "      <td>0.0</td>\n",
       "      <td>0.0</td>\n",
       "      <td>0.0</td>\n",
       "      <td>0.0</td>\n",
       "      <td>0.0</td>\n",
       "      <td>11.0</td>\n",
       "      <td>16.0</td>\n",
       "      <td>10.0</td>\n",
       "      <td>0.0</td>\n",
       "      <td>0.0</td>\n",
       "    </tr>\n",
       "    <tr>\n",
       "      <th>2</th>\n",
       "      <td>0.0</td>\n",
       "      <td>0.0</td>\n",
       "      <td>0.0</td>\n",
       "      <td>4.0</td>\n",
       "      <td>15.0</td>\n",
       "      <td>12.0</td>\n",
       "      <td>0.0</td>\n",
       "      <td>0.0</td>\n",
       "      <td>0.0</td>\n",
       "      <td>0.0</td>\n",
       "      <td>...</td>\n",
       "      <td>5.0</td>\n",
       "      <td>0.0</td>\n",
       "      <td>0.0</td>\n",
       "      <td>0.0</td>\n",
       "      <td>0.0</td>\n",
       "      <td>3.0</td>\n",
       "      <td>11.0</td>\n",
       "      <td>16.0</td>\n",
       "      <td>9.0</td>\n",
       "      <td>0.0</td>\n",
       "    </tr>\n",
       "    <tr>\n",
       "      <th>3</th>\n",
       "      <td>0.0</td>\n",
       "      <td>0.0</td>\n",
       "      <td>7.0</td>\n",
       "      <td>15.0</td>\n",
       "      <td>13.0</td>\n",
       "      <td>1.0</td>\n",
       "      <td>0.0</td>\n",
       "      <td>0.0</td>\n",
       "      <td>0.0</td>\n",
       "      <td>8.0</td>\n",
       "      <td>...</td>\n",
       "      <td>9.0</td>\n",
       "      <td>0.0</td>\n",
       "      <td>0.0</td>\n",
       "      <td>0.0</td>\n",
       "      <td>7.0</td>\n",
       "      <td>13.0</td>\n",
       "      <td>13.0</td>\n",
       "      <td>9.0</td>\n",
       "      <td>0.0</td>\n",
       "      <td>0.0</td>\n",
       "    </tr>\n",
       "    <tr>\n",
       "      <th>4</th>\n",
       "      <td>0.0</td>\n",
       "      <td>0.0</td>\n",
       "      <td>0.0</td>\n",
       "      <td>1.0</td>\n",
       "      <td>11.0</td>\n",
       "      <td>0.0</td>\n",
       "      <td>0.0</td>\n",
       "      <td>0.0</td>\n",
       "      <td>0.0</td>\n",
       "      <td>0.0</td>\n",
       "      <td>...</td>\n",
       "      <td>0.0</td>\n",
       "      <td>0.0</td>\n",
       "      <td>0.0</td>\n",
       "      <td>0.0</td>\n",
       "      <td>0.0</td>\n",
       "      <td>2.0</td>\n",
       "      <td>16.0</td>\n",
       "      <td>4.0</td>\n",
       "      <td>0.0</td>\n",
       "      <td>0.0</td>\n",
       "    </tr>\n",
       "    <tr>\n",
       "      <th>...</th>\n",
       "      <td>...</td>\n",
       "      <td>...</td>\n",
       "      <td>...</td>\n",
       "      <td>...</td>\n",
       "      <td>...</td>\n",
       "      <td>...</td>\n",
       "      <td>...</td>\n",
       "      <td>...</td>\n",
       "      <td>...</td>\n",
       "      <td>...</td>\n",
       "      <td>...</td>\n",
       "      <td>...</td>\n",
       "      <td>...</td>\n",
       "      <td>...</td>\n",
       "      <td>...</td>\n",
       "      <td>...</td>\n",
       "      <td>...</td>\n",
       "      <td>...</td>\n",
       "      <td>...</td>\n",
       "      <td>...</td>\n",
       "      <td>...</td>\n",
       "    </tr>\n",
       "    <tr>\n",
       "      <th>1792</th>\n",
       "      <td>0.0</td>\n",
       "      <td>0.0</td>\n",
       "      <td>4.0</td>\n",
       "      <td>10.0</td>\n",
       "      <td>13.0</td>\n",
       "      <td>6.0</td>\n",
       "      <td>0.0</td>\n",
       "      <td>0.0</td>\n",
       "      <td>0.0</td>\n",
       "      <td>1.0</td>\n",
       "      <td>...</td>\n",
       "      <td>4.0</td>\n",
       "      <td>0.0</td>\n",
       "      <td>0.0</td>\n",
       "      <td>0.0</td>\n",
       "      <td>2.0</td>\n",
       "      <td>14.0</td>\n",
       "      <td>15.0</td>\n",
       "      <td>9.0</td>\n",
       "      <td>0.0</td>\n",
       "      <td>0.0</td>\n",
       "    </tr>\n",
       "    <tr>\n",
       "      <th>1793</th>\n",
       "      <td>0.0</td>\n",
       "      <td>0.0</td>\n",
       "      <td>6.0</td>\n",
       "      <td>16.0</td>\n",
       "      <td>13.0</td>\n",
       "      <td>11.0</td>\n",
       "      <td>1.0</td>\n",
       "      <td>0.0</td>\n",
       "      <td>0.0</td>\n",
       "      <td>0.0</td>\n",
       "      <td>...</td>\n",
       "      <td>1.0</td>\n",
       "      <td>0.0</td>\n",
       "      <td>0.0</td>\n",
       "      <td>0.0</td>\n",
       "      <td>6.0</td>\n",
       "      <td>16.0</td>\n",
       "      <td>14.0</td>\n",
       "      <td>6.0</td>\n",
       "      <td>0.0</td>\n",
       "      <td>0.0</td>\n",
       "    </tr>\n",
       "    <tr>\n",
       "      <th>1794</th>\n",
       "      <td>0.0</td>\n",
       "      <td>0.0</td>\n",
       "      <td>1.0</td>\n",
       "      <td>11.0</td>\n",
       "      <td>15.0</td>\n",
       "      <td>1.0</td>\n",
       "      <td>0.0</td>\n",
       "      <td>0.0</td>\n",
       "      <td>0.0</td>\n",
       "      <td>0.0</td>\n",
       "      <td>...</td>\n",
       "      <td>0.0</td>\n",
       "      <td>0.0</td>\n",
       "      <td>0.0</td>\n",
       "      <td>0.0</td>\n",
       "      <td>2.0</td>\n",
       "      <td>9.0</td>\n",
       "      <td>13.0</td>\n",
       "      <td>6.0</td>\n",
       "      <td>0.0</td>\n",
       "      <td>0.0</td>\n",
       "    </tr>\n",
       "    <tr>\n",
       "      <th>1795</th>\n",
       "      <td>0.0</td>\n",
       "      <td>0.0</td>\n",
       "      <td>2.0</td>\n",
       "      <td>10.0</td>\n",
       "      <td>7.0</td>\n",
       "      <td>0.0</td>\n",
       "      <td>0.0</td>\n",
       "      <td>0.0</td>\n",
       "      <td>0.0</td>\n",
       "      <td>0.0</td>\n",
       "      <td>...</td>\n",
       "      <td>2.0</td>\n",
       "      <td>0.0</td>\n",
       "      <td>0.0</td>\n",
       "      <td>0.0</td>\n",
       "      <td>5.0</td>\n",
       "      <td>12.0</td>\n",
       "      <td>16.0</td>\n",
       "      <td>12.0</td>\n",
       "      <td>0.0</td>\n",
       "      <td>0.0</td>\n",
       "    </tr>\n",
       "    <tr>\n",
       "      <th>1796</th>\n",
       "      <td>0.0</td>\n",
       "      <td>0.0</td>\n",
       "      <td>10.0</td>\n",
       "      <td>14.0</td>\n",
       "      <td>8.0</td>\n",
       "      <td>1.0</td>\n",
       "      <td>0.0</td>\n",
       "      <td>0.0</td>\n",
       "      <td>0.0</td>\n",
       "      <td>2.0</td>\n",
       "      <td>...</td>\n",
       "      <td>8.0</td>\n",
       "      <td>0.0</td>\n",
       "      <td>0.0</td>\n",
       "      <td>1.0</td>\n",
       "      <td>8.0</td>\n",
       "      <td>12.0</td>\n",
       "      <td>14.0</td>\n",
       "      <td>12.0</td>\n",
       "      <td>1.0</td>\n",
       "      <td>0.0</td>\n",
       "    </tr>\n",
       "  </tbody>\n",
       "</table>\n",
       "<p>1797 rows × 64 columns</p>\n",
       "</div>"
      ],
      "text/plain": [
       "       0    1     2     3     4     5    6    7    8    9   ...   54   55  \\\n",
       "0     0.0  0.0   5.0  13.0   9.0   1.0  0.0  0.0  0.0  0.0  ...  0.0  0.0   \n",
       "1     0.0  0.0   0.0  12.0  13.0   5.0  0.0  0.0  0.0  0.0  ...  0.0  0.0   \n",
       "2     0.0  0.0   0.0   4.0  15.0  12.0  0.0  0.0  0.0  0.0  ...  5.0  0.0   \n",
       "3     0.0  0.0   7.0  15.0  13.0   1.0  0.0  0.0  0.0  8.0  ...  9.0  0.0   \n",
       "4     0.0  0.0   0.0   1.0  11.0   0.0  0.0  0.0  0.0  0.0  ...  0.0  0.0   \n",
       "...   ...  ...   ...   ...   ...   ...  ...  ...  ...  ...  ...  ...  ...   \n",
       "1792  0.0  0.0   4.0  10.0  13.0   6.0  0.0  0.0  0.0  1.0  ...  4.0  0.0   \n",
       "1793  0.0  0.0   6.0  16.0  13.0  11.0  1.0  0.0  0.0  0.0  ...  1.0  0.0   \n",
       "1794  0.0  0.0   1.0  11.0  15.0   1.0  0.0  0.0  0.0  0.0  ...  0.0  0.0   \n",
       "1795  0.0  0.0   2.0  10.0   7.0   0.0  0.0  0.0  0.0  0.0  ...  2.0  0.0   \n",
       "1796  0.0  0.0  10.0  14.0   8.0   1.0  0.0  0.0  0.0  2.0  ...  8.0  0.0   \n",
       "\n",
       "       56   57   58    59    60    61   62   63  \n",
       "0     0.0  0.0  6.0  13.0  10.0   0.0  0.0  0.0  \n",
       "1     0.0  0.0  0.0  11.0  16.0  10.0  0.0  0.0  \n",
       "2     0.0  0.0  0.0   3.0  11.0  16.0  9.0  0.0  \n",
       "3     0.0  0.0  7.0  13.0  13.0   9.0  0.0  0.0  \n",
       "4     0.0  0.0  0.0   2.0  16.0   4.0  0.0  0.0  \n",
       "...   ...  ...  ...   ...   ...   ...  ...  ...  \n",
       "1792  0.0  0.0  2.0  14.0  15.0   9.0  0.0  0.0  \n",
       "1793  0.0  0.0  6.0  16.0  14.0   6.0  0.0  0.0  \n",
       "1794  0.0  0.0  2.0   9.0  13.0   6.0  0.0  0.0  \n",
       "1795  0.0  0.0  5.0  12.0  16.0  12.0  0.0  0.0  \n",
       "1796  0.0  1.0  8.0  12.0  14.0  12.0  1.0  0.0  \n",
       "\n",
       "[1797 rows x 64 columns]"
      ]
     },
     "execution_count": 35,
     "metadata": {},
     "output_type": "execute_result"
    }
   ],
   "source": [
    "df_digits = pd.DataFrame(data.data)\n",
    "df_digits"
   ]
  },
  {
   "cell_type": "code",
   "execution_count": 37,
   "id": "1c76968d",
   "metadata": {},
   "outputs": [
    {
     "data": {
      "text/plain": [
       "array([0, 1, 2, ..., 8, 9, 8])"
      ]
     },
     "execution_count": 37,
     "metadata": {},
     "output_type": "execute_result"
    }
   ],
   "source": [
    "df_digits['target'] = data.target\n",
    "df_digits.target"
   ]
  },
  {
   "cell_type": "code",
   "execution_count": 88,
   "id": "d4828c6f",
   "metadata": {},
   "outputs": [],
   "source": [
    "X_train,X_test,y_train,y_test = train_test_split(df_digits.drop(columns=['target']),df_digits.target,\n",
    "                                                 test_size=0.2,\n",
    "                                                 random_state=10)"
   ]
  },
  {
   "cell_type": "code",
   "execution_count": 102,
   "id": "79b28a65",
   "metadata": {},
   "outputs": [
    {
     "data": {
      "text/plain": [
       "RandomForestClassifier(n_estimators=300)"
      ]
     },
     "execution_count": 102,
     "metadata": {},
     "output_type": "execute_result"
    }
   ],
   "source": [
    "model = RandomForestClassifier(n_estimators=300,min_samples_leaf=1)\n",
    "model.fit(X_train,y_train)"
   ]
  },
  {
   "cell_type": "code",
   "execution_count": 104,
   "id": "3d587a52",
   "metadata": {},
   "outputs": [
    {
     "data": {
      "text/plain": [
       "0.9694444444444444"
      ]
     },
     "execution_count": 104,
     "metadata": {},
     "output_type": "execute_result"
    }
   ],
   "source": [
    "model.score(X_test,y_test)\n",
    "#model score with basic parameters = 96.67\n",
    "#200 estimators = 96.44\n",
    "#250 96.94\n",
    "#300 97.22\n",
    "#350 96.39\n",
    "#min_samples_leaf-1(default) 3 - 96.11 2- 96.67 4-95.56 5-95"
   ]
  },
  {
   "cell_type": "code",
   "execution_count": 105,
   "id": "f3d9014e",
   "metadata": {},
   "outputs": [
    {
     "data": {
      "text/plain": [
       "array([[36,  0,  0,  0,  1,  0,  0,  0,  0,  0],\n",
       "       [ 0, 33,  0,  0,  0,  1,  0,  0,  0,  0],\n",
       "       [ 0,  0, 34,  0,  0,  0,  0,  0,  0,  0],\n",
       "       [ 0,  0,  0, 39,  0,  0,  0,  0,  1,  0],\n",
       "       [ 0,  0,  0,  0, 32,  0,  0,  2,  0,  0],\n",
       "       [ 0,  0,  0,  0,  0, 32,  0,  0,  0,  0],\n",
       "       [ 0,  0,  0,  0,  0,  0, 37,  0,  0,  0],\n",
       "       [ 0,  0,  0,  0,  0,  0,  0, 40,  0,  0],\n",
       "       [ 0,  1,  1,  1,  0,  0,  0,  0, 30,  0],\n",
       "       [ 0,  0,  0,  1,  0,  1,  0,  1,  0, 36]], dtype=int64)"
      ]
     },
     "execution_count": 105,
     "metadata": {},
     "output_type": "execute_result"
    }
   ],
   "source": [
    "y_pred = model.predict(X_test)\n",
    "cm = confusion_matrix(y_test,y_pred)\n",
    "cm"
   ]
  },
  {
   "cell_type": "code",
   "execution_count": 106,
   "id": "23ac880e",
   "metadata": {},
   "outputs": [
    {
     "data": {
      "image/png": "[encoded data removed]",
      "text/plain": [
       "<Figure size 640x480 with 2 Axes>"
      ]
     },
     "metadata": {},
     "output_type": "display_data"
    }
   ],
   "source": [
    "sns.heatmap(data = cm,annot = True,cmap='inferno')\n",
    "plt.xlabel('Predicted Value',fontsize=13)\n",
    "plt.ylabel('Actual Value',fontsize=13)\n",
    "plt.show()"
   ]
  },
  {
   "cell_type": "code",
   "execution_count": null,
   "id": "6a0f9c6a",
   "metadata": {},
   "outputs": [],
   "source": []
  }
 ],
 "metadata": {
  "kernelspec": {
   "display_name": "Python 3 (ipykernel)",
   "language": "python",
   "name": "python3"
  },
  "language_info": {
   "codemirror_mode": {
    "name": "ipython",
    "version": 3
   },
   "file_extension": ".py",
   "mimetype": "text/x-python",
   "name": "python",
   "nbconvert_exporter": "python",
   "pygments_lexer": "ipython3",
   "version": "3.9.13"
  }
 },
 "nbformat": 4,
 "nbformat_minor": 5
}
