{
 "cells": [
  {
   "cell_type": "markdown",
   "id": "be83e5e3",
   "metadata": {},
   "source": [
    "## numpy.hstack\n",
    "numpy.hstack(tup, *, dtype=None, casting='same_kind')\n",
    "\n",
    "-> Stack arrays in sequence horizontally (column wise).\n",
    "\n",
    "-> This is equivalent to concatenation along the second axis(i.e column number may differ as it stacks along columns which is horizontal), except for 1-D arrays where it concatenates along the first axis. \n",
    "\n",
    "-> Rebuilds arrays divided by hsplit.\n",
    "\n",
    "-> This function makes most sense for arrays with up to 3 dimensions. For instance, for pixel-data with a height (first axis), width (second axis), and r/g/b channels (third axis). \n",
    "\n",
    "-> The functions concatenate, stack and block provide more general stacking and concatenation operations.\n",
    "\n",
    "Parameters:\n",
    "\n",
    "->'tup': sequence of ndarrays\n",
    "The arrays must have the same shape along all but the second axis, except 1-D arrays which can be any length.\n",
    "\n",
    "->'dtype': str or dtype(added in version 1.24)\n",
    "If provided, the destination array will have this dtype. Cannot be provided together with out.\n",
    "\n",
    "->'casting':{‘no’, ‘equiv’, ‘safe’, ‘same_kind’, ‘unsafe’}, optional(current ver:1.24 may 23)\n",
    "Controls what kind of data casting may occur. Defaults to ‘same_kind’.\n",
    "\n",
    "->Returns: 'stackedndarray'\n",
    "The array formed by stacking the given arrays.\n"
   ]
  },
  {
   "cell_type": "code",
   "execution_count": 1,
   "id": "2e5f0fc0",
   "metadata": {},
   "outputs": [
    {
     "name": "stdout",
     "output_type": "stream",
     "text": [
      "using hstack on 1d arays: \n",
      " [1 2 3 4 5 6]\n",
      "\n",
      "using hstack on 2d arays: \n",
      " [[1 4]\n",
      " [2 5]\n",
      " [3 6]]\n",
      "\n",
      "3d arrays: \n",
      "[[[1 2]\n",
      "  [3 4]]\n",
      "\n",
      " [[5 6]\n",
      "  [7 8]]] \n",
      " \n",
      " [[[10 11]\n",
      "  [12 13]]\n",
      "\n",
      " [[14 15]\n",
      "  [16 18]]]\n",
      "\n",
      "using hstack on 3d arrays: \n",
      " [[[ 1  2]\n",
      "  [ 3  4]\n",
      "  [10 11]\n",
      "  [12 13]]\n",
      "\n",
      " [[ 5  6]\n",
      "  [ 7  8]\n",
      "  [14 15]\n",
      "  [16 18]]]\n"
     ]
    }
   ],
   "source": [
    "import numpy as np\n",
    "a = np.array((1,2,3))\n",
    "b = np.array((4,5,6))\n",
    "print('using hstack on 1d arays: \\n',np.hstack((a,b)))\n",
    "print()\n",
    "\n",
    "a = np.array([[1],[2],[3]])\n",
    "b = np.array([[4],[5],[6]])\n",
    "print('using hstack on 2d arays: \\n',np.hstack((a,b)))\n",
    "print()\n",
    "\n",
    "a = np.linspace(1,8,num=8,dtype='int64').reshape((2,2,2))\n",
    "b = np.linspace(10,18,num=8,dtype='int64').reshape((2,2,2))\n",
    "print('3d arrays: ')\n",
    "print(a,'\\n \\n',b)\n",
    "print()\n",
    "print('using hstack on 3d arrays: \\n',np.hstack((a,b)))"
   ]
  },
  {
   "cell_type": "markdown",
   "id": "b9f159a6",
   "metadata": {},
   "source": [
    "## numpy.vstack\n",
    "numpy.vstack(tup, *, dtype=None, casting='same_kind')\n",
    "\n",
    "-> Stack arrays in sequence vertically (row wise).\n",
    "\n",
    "-> This is equivalent to concatenation along the first axis after 1-D arrays of shape (N,) have been reshaped to (1,N). Rebuilds arrays divided by vsplit.\n",
    "\n",
    "-> This function makes most sense for arrays with up to 3 dimensions. For instance, for pixel-data with a height (first axis), width (second axis), and r/g/b channels (third axis). The functions concatenate, stack and block provide more general stacking and concatenation operations.\n",
    "\n",
    "*np.row_stack is an alias for vstack. They are the same function.*\n",
    "\n",
    "*Parameters*:\n",
    "\n",
    "'tup': sequence of ndarrays\n",
    "->The arrays must have the same shape along all but the first axis. 1-D arrays must have the same length.\n",
    "\n",
    "'dtype':str or dtype(versionadded:: 1.24)\n",
    "->If provided, the destination array will have this dtype. Cannot be provided together with out.\n",
    "\n",
    "\n",
    "'casting':{‘no’, ‘equiv’, ‘safe’, ‘same_kind’, ‘unsafe’}, optional(versionadded:: 1.24)\n",
    "-> Controls what kind of data casting may occur. Defaults to ‘same_kind’.\n",
    "\n",
    "\n",
    "Returns: stackedndarray\n",
    "The array formed by stacking the given arrays, will be at least 2-D.\n",
    "\n"
   ]
  },
  {
   "cell_type": "code",
   "execution_count": 5,
   "id": "560ab756",
   "metadata": {},
   "outputs": [
    {
     "name": "stdout",
     "output_type": "stream",
     "text": [
      "a=[1 2 3]\n",
      " b=[4 5 6]\n",
      " vstack=[[1 2 3]\n",
      " [4 5 6]]\n",
      "\n",
      "a=[[1]\n",
      " [2]\n",
      " [3]]\n",
      " b=[[4]\n",
      " [5]\n",
      " [6]]\n",
      " vstack=[[1]\n",
      " [2]\n",
      " [3]\n",
      " [4]\n",
      " [5]\n",
      " [6]]\n"
     ]
    }
   ],
   "source": [
    "a = np.array([1, 2, 3])\n",
    "b = np.array([4, 5, 6])\n",
    "print(f'a={a}\\n b={b}\\n vstack={np.vstack((a,b))}')\n",
    "print()\n",
    "\n",
    "a = np.array([[1], [2], [3]])\n",
    "b = np.array([[4], [5], [6]])\n",
    "print(f'a={a}\\n b={b}\\n vstack={np.vstack((a,b))}')\n"
   ]
  },
  {
   "cell_type": "markdown",
   "id": "962afe20",
   "metadata": {},
   "source": [
    "*as we seen aboe np.row-stack() ==  np.vstack() as vstack converts \n",
    "1D array of shape (N,) to (1,N)\n",
    "but np.hstack() doesn't convert 1d array to 2d array.*\n",
    "\n",
    "so alternative to np.hstack() which converts 1d array to 2d array, we use np.column_stack().\n",
    "\n",
    "## numpy.column_stack(tup)\n",
    "-> Stacks 1-D arrays as columns into a 2-D array.\n",
    "\n",
    "->Take a sequence of 1-D arrays and stack them as columns to make a single 2-D array. \n",
    "\n",
    "->2-D arrays are stacked as-is, just like with hstack. 1-D arrays are turned into 2-D columns first.\n",
    "\n",
    "Parameters:\n",
    "\n",
    "'tup':sequence of 1-D or 2-D arrays.\n",
    "->Arrays to stack. All of them must have the same first dimension.\n",
    "\n",
    "Returns: stacked2-D array\n",
    "The array formed by stacking the given arrays"
   ]
  },
  {
   "cell_type": "code",
   "execution_count": 4,
   "id": "9d5c95cb",
   "metadata": {},
   "outputs": [
    {
     "name": "stdout",
     "output_type": "stream",
     "text": [
      "using column_stack on 1d arays: \n",
      " [[1 4]\n",
      " [2 5]\n",
      " [3 6]]\n",
      "\n",
      "using column_stack on 2d arays: \n",
      " [[1 4]\n",
      " [2 5]\n",
      " [3 6]]\n",
      "\n",
      "3d arrays: \n",
      "a= [[[1 2]\n",
      "  [3 4]]\n",
      "\n",
      " [[5 6]\n",
      "  [7 8]]] \n",
      " \n",
      " b= [[[10 12]]\n",
      "\n",
      " [[15 18]]]\n",
      "\n",
      "using column_stack on 3d arrays: \n",
      " [[[ 1  2]\n",
      "  [ 3  4]\n",
      "  [10 12]]\n",
      "\n",
      " [[ 5  6]\n",
      "  [ 7  8]\n",
      "  [15 18]]]\n"
     ]
    }
   ],
   "source": [
    "import numpy as np\n",
    "a = np.array((1,2,3))\n",
    "b = np.array((4,5,6))\n",
    "print('using column_stack on 1d arays: \\n',np.column_stack((a,b)))\n",
    "print()\n",
    "\n",
    "a = np.array([[1],[2],[3]])\n",
    "b = np.array([[4],[5],[6]])\n",
    "print('using column_stack on 2d arays: \\n',np.column_stack((a,b)))\n",
    "print()\n",
    "\n",
    "a = np.linspace(1,8,num=8,dtype='int64').reshape((2,2,2))\n",
    "b = np.linspace(10,18,num=4,dtype='int64').reshape((2,1,2))\n",
    "print('3d arrays: ')\n",
    "print('a=',a,'\\n \\n','b=',b)\n",
    "print()\n",
    "print('using column_stack on 3d arrays: \\n',np.column_stack((a,b)))\n",
    "#As we can see here the differencce between the np.hstack() and np.column_stack() as it converts \n",
    "#the 1d array to the 2d array before stacking."
   ]
  },
  {
   "cell_type": "markdown",
   "id": "83a82a2d",
   "metadata": {},
   "source": [
    "### numpy.hsplit(ary, indices_or_sections)\n",
    "\n",
    "->Splits an array into multiple sub-arrays horizontally (column-wise).\n",
    "\n",
    "hsplit is equivalent to split with axis=1, the array is always split along the second axis except for 1-D arrays, where it is split at axis=0.\n",
    "\n",
    "Parameters:\n",
    "'ary':ndarray\n",
    "->Array that is to be divided into sub-arrays.\n",
    "\n",
    "'indices_or_sections': int or 1-D array\n",
    "If indices_or_sections is an integer N, then the array will be divided into N equal arrays along axis. If such a split is not possible, an error is raised.\n",
    "\n",
    "*If indices_or_sections is a 1-D array of sorted integers, the entries indicate where along axis the array is split. For example, [2, 3] would, for axis=0, result in ary[:2] ary[2:3] ary[3:]*\n",
    "\n",
    "*If an index exceeds the dimension of the array along axis, an empty sub-array is returned correspondingly.*\n",
    "\n",
    "Returns: sub-arrays which is list of ndarrays\n",
    "->A list of sub-arrays as views into ary.\n",
    "\n",
    "Raises: ValueError\n",
    "If indices_or_sections is given as an integer, but a split does not result in equal division."
   ]
  },
  {
   "cell_type": "code",
   "execution_count": 7,
   "id": "bf10dceb",
   "metadata": {},
   "outputs": [
    {
     "name": "stdout",
     "output_type": "stream",
     "text": [
      "x = [[ 0.  1.  2.  3.]\n",
      " [ 4.  5.  6.  7.]\n",
      " [ 8.  9. 10. 11.]\n",
      " [12. 13. 14. 15.]]\n"
     ]
    }
   ],
   "source": [
    "x = np.arange(16.0).reshape(4, 4)\n",
    "print(f'x = {x}')"
   ]
  },
  {
   "cell_type": "code",
   "execution_count": null,
   "id": "728c118c",
   "metadata": {},
   "outputs": [],
   "source": []
  }
 ],
 "metadata": {
  "kernelspec": {
   "display_name": "Python 3 (ipykernel)",
   "language": "python",
   "name": "python3"
  },
  "language_info": {
   "codemirror_mode": {
    "name": "ipython",
    "version": 3
   },
   "file_extension": ".py",
   "mimetype": "text/x-python",
   "name": "python",
   "nbconvert_exporter": "python",
   "pygments_lexer": "ipython3",
   "version": "3.9.13"
  }
 },
 "nbformat": 4,
 "nbformat_minor": 5
}
