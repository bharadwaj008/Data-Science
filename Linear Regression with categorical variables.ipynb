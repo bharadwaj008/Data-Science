{
 "cells": [
  {
   "cell_type": "code",
   "execution_count": 1,
   "id": "81713cad",
   "metadata": {},
   "outputs": [],
   "source": [
    "import numpy as np\n",
    "import pandas as pd\n",
    "import matplotlib.pyplot as plt\n",
    "from sklearn.linear_model import LinearRegression\n",
    "from sklearn.preprocessing import LabelEncoder,OneHotEncoder"
   ]
  },
  {
   "cell_type": "code",
   "execution_count": 2,
   "id": "56eb52a7",
   "metadata": {},
   "outputs": [
    {
     "data": {
      "text/html": [
       "<div>\n",
       "<style scoped>\n",
       "    .dataframe tbody tr th:only-of-type {\n",
       "        vertical-align: middle;\n",
       "    }\n",
       "\n",
       "    .dataframe tbody tr th {\n",
       "        vertical-align: top;\n",
       "    }\n",
       "\n",
       "    .dataframe thead th {\n",
       "        text-align: right;\n",
       "    }\n",
       "</style>\n",
       "<table border=\"1\" class=\"dataframe\">\n",
       "  <thead>\n",
       "    <tr style=\"text-align: right;\">\n",
       "      <th></th>\n",
       "      <th>Car Model</th>\n",
       "      <th>Mileage</th>\n",
       "      <th>Sell Price($)</th>\n",
       "      <th>Age(yrs)</th>\n",
       "    </tr>\n",
       "  </thead>\n",
       "  <tbody>\n",
       "    <tr>\n",
       "      <th>0</th>\n",
       "      <td>BMW X5</td>\n",
       "      <td>69000</td>\n",
       "      <td>18000</td>\n",
       "      <td>6</td>\n",
       "    </tr>\n",
       "    <tr>\n",
       "      <th>1</th>\n",
       "      <td>BMW X5</td>\n",
       "      <td>35000</td>\n",
       "      <td>34000</td>\n",
       "      <td>3</td>\n",
       "    </tr>\n",
       "    <tr>\n",
       "      <th>2</th>\n",
       "      <td>BMW X5</td>\n",
       "      <td>57000</td>\n",
       "      <td>26100</td>\n",
       "      <td>5</td>\n",
       "    </tr>\n",
       "    <tr>\n",
       "      <th>3</th>\n",
       "      <td>BMW X5</td>\n",
       "      <td>22500</td>\n",
       "      <td>40000</td>\n",
       "      <td>2</td>\n",
       "    </tr>\n",
       "    <tr>\n",
       "      <th>4</th>\n",
       "      <td>BMW X5</td>\n",
       "      <td>46000</td>\n",
       "      <td>31500</td>\n",
       "      <td>4</td>\n",
       "    </tr>\n",
       "    <tr>\n",
       "      <th>5</th>\n",
       "      <td>Audi A5</td>\n",
       "      <td>59000</td>\n",
       "      <td>29400</td>\n",
       "      <td>5</td>\n",
       "    </tr>\n",
       "    <tr>\n",
       "      <th>6</th>\n",
       "      <td>Audi A5</td>\n",
       "      <td>52000</td>\n",
       "      <td>32000</td>\n",
       "      <td>5</td>\n",
       "    </tr>\n",
       "    <tr>\n",
       "      <th>7</th>\n",
       "      <td>Audi A5</td>\n",
       "      <td>72000</td>\n",
       "      <td>19300</td>\n",
       "      <td>6</td>\n",
       "    </tr>\n",
       "    <tr>\n",
       "      <th>8</th>\n",
       "      <td>Audi A5</td>\n",
       "      <td>91000</td>\n",
       "      <td>12000</td>\n",
       "      <td>8</td>\n",
       "    </tr>\n",
       "    <tr>\n",
       "      <th>9</th>\n",
       "      <td>Mercedez Benz C class</td>\n",
       "      <td>67000</td>\n",
       "      <td>22000</td>\n",
       "      <td>6</td>\n",
       "    </tr>\n",
       "    <tr>\n",
       "      <th>10</th>\n",
       "      <td>Mercedez Benz C class</td>\n",
       "      <td>83000</td>\n",
       "      <td>20000</td>\n",
       "      <td>7</td>\n",
       "    </tr>\n",
       "    <tr>\n",
       "      <th>11</th>\n",
       "      <td>Mercedez Benz C class</td>\n",
       "      <td>79000</td>\n",
       "      <td>21000</td>\n",
       "      <td>7</td>\n",
       "    </tr>\n",
       "    <tr>\n",
       "      <th>12</th>\n",
       "      <td>Mercedez Benz C class</td>\n",
       "      <td>59000</td>\n",
       "      <td>33000</td>\n",
       "      <td>5</td>\n",
       "    </tr>\n",
       "  </tbody>\n",
       "</table>\n",
       "</div>"
      ],
      "text/plain": [
       "                Car Model  Mileage  Sell Price($)  Age(yrs)\n",
       "0                  BMW X5    69000          18000         6\n",
       "1                  BMW X5    35000          34000         3\n",
       "2                  BMW X5    57000          26100         5\n",
       "3                  BMW X5    22500          40000         2\n",
       "4                  BMW X5    46000          31500         4\n",
       "5                 Audi A5    59000          29400         5\n",
       "6                 Audi A5    52000          32000         5\n",
       "7                 Audi A5    72000          19300         6\n",
       "8                 Audi A5    91000          12000         8\n",
       "9   Mercedez Benz C class    67000          22000         6\n",
       "10  Mercedez Benz C class    83000          20000         7\n",
       "11  Mercedez Benz C class    79000          21000         7\n",
       "12  Mercedez Benz C class    59000          33000         5"
      ]
     },
     "execution_count": 2,
     "metadata": {},
     "output_type": "execute_result"
    }
   ],
   "source": [
    "df_cat_var = pd.read_csv('carprices.csv')\n",
    "df_cat_var"
   ]
  },
  {
   "cell_type": "code",
   "execution_count": 3,
   "id": "e98bb59c",
   "metadata": {},
   "outputs": [
    {
     "data": {
      "image/png": "[encoded data removed]",
      "text/plain": [
       "<Figure size 640x480 with 1 Axes>"
      ]
     },
     "metadata": {},
     "output_type": "display_data"
    },
    {
     "data": {
      "image/png": "[encoded data removed]",
      "text/plain": [
       "<Figure size 640x480 with 1 Axes>"
      ]
     },
     "metadata": {},
     "output_type": "display_data"
    },
    {
     "data": {
      "text/html": [
       "<div>\n",
       "<style scoped>\n",
       "    .dataframe tbody tr th:only-of-type {\n",
       "        vertical-align: middle;\n",
       "    }\n",
       "\n",
       "    .dataframe tbody tr th {\n",
       "        vertical-align: top;\n",
       "    }\n",
       "\n",
       "    .dataframe thead th {\n",
       "        text-align: right;\n",
       "    }\n",
       "</style>\n",
       "<table border=\"1\" class=\"dataframe\">\n",
       "  <thead>\n",
       "    <tr style=\"text-align: right;\">\n",
       "      <th></th>\n",
       "      <th>Mileage</th>\n",
       "      <th>Sell Price($)</th>\n",
       "      <th>Age(yrs)</th>\n",
       "    </tr>\n",
       "  </thead>\n",
       "  <tbody>\n",
       "    <tr>\n",
       "      <th>Mileage</th>\n",
       "      <td>1.000000</td>\n",
       "      <td>-0.927116</td>\n",
       "      <td>0.993452</td>\n",
       "    </tr>\n",
       "    <tr>\n",
       "      <th>Sell Price($)</th>\n",
       "      <td>-0.927116</td>\n",
       "      <td>1.000000</td>\n",
       "      <td>-0.921741</td>\n",
       "    </tr>\n",
       "    <tr>\n",
       "      <th>Age(yrs)</th>\n",
       "      <td>0.993452</td>\n",
       "      <td>-0.921741</td>\n",
       "      <td>1.000000</td>\n",
       "    </tr>\n",
       "  </tbody>\n",
       "</table>\n",
       "</div>"
      ],
      "text/plain": [
       "                Mileage  Sell Price($)  Age(yrs)\n",
       "Mileage        1.000000      -0.927116  0.993452\n",
       "Sell Price($) -0.927116       1.000000 -0.921741\n",
       "Age(yrs)       0.993452      -0.921741  1.000000"
      ]
     },
     "execution_count": 3,
     "metadata": {},
     "output_type": "execute_result"
    }
   ],
   "source": [
    "plt.subplot(2,1,1)\n",
    "plt.plot(df_cat_var.Mileage,df_cat_var[['Sell Price($)']],'ob' )\n",
    "fontdict = {'color':'red','fontsize':17,'family':'times new roman'}\n",
    "plt.xlabel('Mileage',labelpad=10)\n",
    "plt.ylabel('Selling Price',labelpad=10)\n",
    "plt.title('Mileage vs Selling Price',fontdict=fontdict)\n",
    "plt.show()\n",
    "plt.subplot(2,1,2)\n",
    "plt.plot(df_cat_var['Age(yrs)'],df_cat_var[['Sell Price($)']],'ob' )\n",
    "fontdict = {'color':'blue','fontsize':15,'family':'times new roman'}\n",
    "plt.xlabel('Age',labelpad=10)\n",
    "plt.ylabel('Selling Price',labelpad=10)\n",
    "plt.title('Age vs Selling Price',fontdict=fontdict)\n",
    "plt.show()\n",
    "df_cat_var.corr(numeric_only= True)\n",
    "#As we can see here Age and Mileage has very high correlation with correlation coefficient of 0.993452. \n",
    "#We can avoid any one variable."
   ]
  },
  {
   "cell_type": "markdown",
   "id": "cdf77947",
   "metadata": {},
   "source": [
    "### Categorical Variables to Numbers\n",
    "-> As we cannot use categorical variables in our Linear Regression model, we have to convert the categorical variable to numbers. We have 2 ways for that 1. pd.get_dummies() 2.labelencoder and then onehotencoder from sklearn.preprocessing.\n"
   ]
  },
  {
   "cell_type": "markdown",
   "id": "a5e69948",
   "metadata": {},
   "source": [
    "### way 1 refer pd.get_dummies() method in pandas methods"
   ]
  },
  {
   "cell_type": "code",
   "execution_count": 4,
   "id": "75e81d2e",
   "metadata": {},
   "outputs": [],
   "source": [
    "new_df_cat_var = pd.get_dummies(data=df_cat_var,columns=['Car Model'],drop_first=True)\n",
    "#dropped the first column of dummy encoded variables \n",
    "# dropping age variable \n",
    "new_df_cat_var = new_df_cat_var.drop(columns=['Age(yrs)'])"
   ]
  },
  {
   "cell_type": "code",
   "execution_count": 5,
   "id": "903e6950",
   "metadata": {},
   "outputs": [
    {
     "name": "stdout",
     "output_type": "stream",
     "text": [
      "    Mileage  Car Model_BMW X5  Car Model_Mercedez Benz C class\n",
      "0     69000                 1                                0\n",
      "1     35000                 1                                0\n",
      "2     57000                 1                                0\n",
      "3     22500                 1                                0\n",
      "4     46000                 1                                0\n",
      "5     59000                 0                                0\n",
      "6     52000                 0                                0\n",
      "7     72000                 0                                0\n",
      "8     91000                 0                                0\n",
      "9     67000                 0                                1\n",
      "10    83000                 0                                1\n",
      "11    79000                 0                                1\n",
      "12    59000                 0                                1\n",
      "\n",
      "0     18000\n",
      "1     34000\n",
      "2     26100\n",
      "3     40000\n",
      "4     31500\n",
      "5     29400\n",
      "6     32000\n",
      "7     19300\n",
      "8     12000\n",
      "9     22000\n",
      "10    20000\n",
      "11    21000\n",
      "12    33000\n",
      "Name: Sell Price($), dtype: int64\n"
     ]
    },
    {
     "data": {
      "text/plain": [
       "LinearRegression()"
      ]
     },
     "execution_count": 5,
     "metadata": {},
     "output_type": "execute_result"
    }
   ],
   "source": [
    "X = new_df_cat_var.drop(columns=['Sell Price($)'])\n",
    "print(X)\n",
    "y= new_df_cat_var['Sell Price($)']\n",
    "print()\n",
    "print(y)\n",
    "L_Reg = LinearRegression()\n",
    "L_Reg.fit(X.values,y)"
   ]
  },
  {
   "cell_type": "code",
   "execution_count": 6,
   "id": "e2b52ffc",
   "metadata": {},
   "outputs": [
    {
     "name": "stdout",
     "output_type": "stream",
     "text": [
      "predicted price of benz with 45000 mileage [37033.10879215]\n"
     ]
    }
   ],
   "source": [
    "# 1) Predict price of a mercedez benz that is 4 yr old with mileage 45000\n",
    "\n",
    "# 2) Predict price of a BMW X5 that is 7 yr old with mileage 86000\n",
    "\n",
    "# 3) Tell me the score (accuracy) of your model. (Hint: use LinearRegression().score())\n",
    "print('predicted price of benz with 45000 mileage',L_Reg.predict([[45000,0,1]]))"
   ]
  },
  {
   "cell_type": "code",
   "execution_count": 7,
   "id": "fc13c5e0",
   "metadata": {},
   "outputs": [
    {
     "name": "stdout",
     "output_type": "stream",
     "text": [
      "    Mileage  Age(yrs)  Car Model_BMW X5  Car Model_Mercedez Benz C class\n",
      "0     69000         6                 1                                0\n",
      "1     35000         3                 1                                0\n",
      "2     57000         5                 1                                0\n",
      "3     22500         2                 1                                0\n",
      "4     46000         4                 1                                0\n",
      "5     59000         5                 0                                0\n",
      "6     52000         5                 0                                0\n",
      "7     72000         6                 0                                0\n",
      "8     91000         8                 0                                0\n",
      "9     67000         6                 0                                1\n",
      "10    83000         7                 0                                1\n",
      "11    79000         7                 0                                1\n",
      "12    59000         5                 0                                1\n",
      "\n",
      "0     18000\n",
      "1     34000\n",
      "2     26100\n",
      "3     40000\n",
      "4     31500\n",
      "5     29400\n",
      "6     32000\n",
      "7     19300\n",
      "8     12000\n",
      "9     22000\n",
      "10    20000\n",
      "11    21000\n",
      "12    33000\n",
      "Name: Sell Price($), dtype: int64\n",
      "\n",
      "predicted price of benz with 45000 mileage and age of 4 yrs [36991.31721061]\n"
     ]
    }
   ],
   "source": [
    "new_df_cat_var = pd.get_dummies(data=df_cat_var,columns=['Car Model'],drop_first=True)\n",
    "X = new_df_cat_var.drop(columns=['Sell Price($)'])\n",
    "print(X)\n",
    "y= new_df_cat_var['Sell Price($)']\n",
    "print()\n",
    "print(y)\n",
    "L_Reg.fit(X.values,y)\n",
    "print()\n",
    "print('predicted price of benz with 45000 mileage and age of 4 yrs',L_Reg.predict([[45000,4,0,1]]))"
   ]
  },
  {
   "cell_type": "code",
   "execution_count": 8,
   "id": "299226e5",
   "metadata": {},
   "outputs": [
    {
     "name": "stdout",
     "output_type": "stream",
     "text": [
      "predicted price of BMW with 86000 mileage and age of 7 yrs [11080.74313219]\n",
      "Our model accuracy:  94.17050937281081 %\n"
     ]
    }
   ],
   "source": [
    "print('predicted price of BMW with 86000 mileage and age of 7 yrs',L_Reg.predict([[86000,7,1,0]]))\n",
    "print('Our model accuracy: ',L_Reg.score(X.values,y)*100,'%')"
   ]
  },
  {
   "cell_type": "markdown",
   "id": "fc5c4fed",
   "metadata": {},
   "source": [
    "NOTE: sklearn library takes care of dummy variable trap hence even if you don't drop one of the state columns it is going to work, however we should make a habit of taking care of dummy variable trap ourselves just in case library that you are using is not handling this for you"
   ]
  },
  {
   "cell_type": "code",
   "execution_count": 9,
   "id": "a32f9943",
   "metadata": {},
   "outputs": [
    {
     "data": {
      "text/html": [
       "<div>\n",
       "<style scoped>\n",
       "    .dataframe tbody tr th:only-of-type {\n",
       "        vertical-align: middle;\n",
       "    }\n",
       "\n",
       "    .dataframe tbody tr th {\n",
       "        vertical-align: top;\n",
       "    }\n",
       "\n",
       "    .dataframe thead th {\n",
       "        text-align: right;\n",
       "    }\n",
       "</style>\n",
       "<table border=\"1\" class=\"dataframe\">\n",
       "  <thead>\n",
       "    <tr style=\"text-align: right;\">\n",
       "      <th></th>\n",
       "      <th>Car Model</th>\n",
       "      <th>Mileage</th>\n",
       "      <th>Sell Price($)</th>\n",
       "      <th>Age(yrs)</th>\n",
       "    </tr>\n",
       "  </thead>\n",
       "  <tbody>\n",
       "    <tr>\n",
       "      <th>0</th>\n",
       "      <td>1</td>\n",
       "      <td>69000</td>\n",
       "      <td>18000</td>\n",
       "      <td>6</td>\n",
       "    </tr>\n",
       "    <tr>\n",
       "      <th>1</th>\n",
       "      <td>1</td>\n",
       "      <td>35000</td>\n",
       "      <td>34000</td>\n",
       "      <td>3</td>\n",
       "    </tr>\n",
       "    <tr>\n",
       "      <th>2</th>\n",
       "      <td>1</td>\n",
       "      <td>57000</td>\n",
       "      <td>26100</td>\n",
       "      <td>5</td>\n",
       "    </tr>\n",
       "    <tr>\n",
       "      <th>3</th>\n",
       "      <td>1</td>\n",
       "      <td>22500</td>\n",
       "      <td>40000</td>\n",
       "      <td>2</td>\n",
       "    </tr>\n",
       "    <tr>\n",
       "      <th>4</th>\n",
       "      <td>1</td>\n",
       "      <td>46000</td>\n",
       "      <td>31500</td>\n",
       "      <td>4</td>\n",
       "    </tr>\n",
       "    <tr>\n",
       "      <th>5</th>\n",
       "      <td>0</td>\n",
       "      <td>59000</td>\n",
       "      <td>29400</td>\n",
       "      <td>5</td>\n",
       "    </tr>\n",
       "    <tr>\n",
       "      <th>6</th>\n",
       "      <td>0</td>\n",
       "      <td>52000</td>\n",
       "      <td>32000</td>\n",
       "      <td>5</td>\n",
       "    </tr>\n",
       "    <tr>\n",
       "      <th>7</th>\n",
       "      <td>0</td>\n",
       "      <td>72000</td>\n",
       "      <td>19300</td>\n",
       "      <td>6</td>\n",
       "    </tr>\n",
       "    <tr>\n",
       "      <th>8</th>\n",
       "      <td>0</td>\n",
       "      <td>91000</td>\n",
       "      <td>12000</td>\n",
       "      <td>8</td>\n",
       "    </tr>\n",
       "    <tr>\n",
       "      <th>9</th>\n",
       "      <td>2</td>\n",
       "      <td>67000</td>\n",
       "      <td>22000</td>\n",
       "      <td>6</td>\n",
       "    </tr>\n",
       "    <tr>\n",
       "      <th>10</th>\n",
       "      <td>2</td>\n",
       "      <td>83000</td>\n",
       "      <td>20000</td>\n",
       "      <td>7</td>\n",
       "    </tr>\n",
       "    <tr>\n",
       "      <th>11</th>\n",
       "      <td>2</td>\n",
       "      <td>79000</td>\n",
       "      <td>21000</td>\n",
       "      <td>7</td>\n",
       "    </tr>\n",
       "    <tr>\n",
       "      <th>12</th>\n",
       "      <td>2</td>\n",
       "      <td>59000</td>\n",
       "      <td>33000</td>\n",
       "      <td>5</td>\n",
       "    </tr>\n",
       "  </tbody>\n",
       "</table>\n",
       "</div>"
      ],
      "text/plain": [
       "    Car Model  Mileage  Sell Price($)  Age(yrs)\n",
       "0           1    69000          18000         6\n",
       "1           1    35000          34000         3\n",
       "2           1    57000          26100         5\n",
       "3           1    22500          40000         2\n",
       "4           1    46000          31500         4\n",
       "5           0    59000          29400         5\n",
       "6           0    52000          32000         5\n",
       "7           0    72000          19300         6\n",
       "8           0    91000          12000         8\n",
       "9           2    67000          22000         6\n",
       "10          2    83000          20000         7\n",
       "11          2    79000          21000         7\n",
       "12          2    59000          33000         5"
      ]
     },
     "execution_count": 9,
     "metadata": {},
     "output_type": "execute_result"
    }
   ],
   "source": [
    "# label Encoding\n",
    "le = LabelEncoder()\n",
    "df_cat_var['Car Model'] = le.fit_transform(df_cat_var['Car Model'])\n",
    "df_cat_var"
   ]
  },
  {
   "cell_type": "code",
   "execution_count": 10,
   "id": "cc54098d",
   "metadata": {},
   "outputs": [
    {
     "name": "stdout",
     "output_type": "stream",
     "text": [
      "    Audi  BMW  Mercedes\n",
      "0    0.0  1.0       0.0\n",
      "1    0.0  1.0       0.0\n",
      "2    0.0  1.0       0.0\n",
      "3    0.0  1.0       0.0\n",
      "4    0.0  1.0       0.0\n",
      "5    1.0  0.0       0.0\n",
      "6    1.0  0.0       0.0\n",
      "7    1.0  0.0       0.0\n",
      "8    1.0  0.0       0.0\n",
      "9    0.0  0.0       1.0\n",
      "10   0.0  0.0       1.0\n",
      "11   0.0  0.0       1.0\n",
      "12   0.0  0.0       1.0\n"
     ]
    }
   ],
   "source": [
    "#One Hot Encoding\n",
    "y = df_cat_var['Sell Price($)']\n",
    "x = df_cat_var.drop(columns=['Sell Price($)'])\n",
    "ohe = OneHotEncoder()\n",
    "ohe_col = pd.DataFrame(ohe.fit_transform(df_cat_var[['Car Model']]).toarray(),columns=['Audi','BMW','Mercedes'])\n",
    "print(ohe_col)\n",
    "x = pd.concat([x,ohe_col],axis='columns')"
   ]
  },
  {
   "cell_type": "code",
   "execution_count": 11,
   "id": "8b54a3f2",
   "metadata": {},
   "outputs": [
    {
     "data": {
      "text/html": [
       "<div>\n",
       "<style scoped>\n",
       "    .dataframe tbody tr th:only-of-type {\n",
       "        vertical-align: middle;\n",
       "    }\n",
       "\n",
       "    .dataframe tbody tr th {\n",
       "        vertical-align: top;\n",
       "    }\n",
       "\n",
       "    .dataframe thead th {\n",
       "        text-align: right;\n",
       "    }\n",
       "</style>\n",
       "<table border=\"1\" class=\"dataframe\">\n",
       "  <thead>\n",
       "    <tr style=\"text-align: right;\">\n",
       "      <th></th>\n",
       "      <th>Mileage</th>\n",
       "      <th>Age(yrs)</th>\n",
       "      <th>BMW</th>\n",
       "      <th>Mercedes</th>\n",
       "    </tr>\n",
       "  </thead>\n",
       "  <tbody>\n",
       "    <tr>\n",
       "      <th>0</th>\n",
       "      <td>69000</td>\n",
       "      <td>6</td>\n",
       "      <td>1.0</td>\n",
       "      <td>0.0</td>\n",
       "    </tr>\n",
       "    <tr>\n",
       "      <th>1</th>\n",
       "      <td>35000</td>\n",
       "      <td>3</td>\n",
       "      <td>1.0</td>\n",
       "      <td>0.0</td>\n",
       "    </tr>\n",
       "    <tr>\n",
       "      <th>2</th>\n",
       "      <td>57000</td>\n",
       "      <td>5</td>\n",
       "      <td>1.0</td>\n",
       "      <td>0.0</td>\n",
       "    </tr>\n",
       "    <tr>\n",
       "      <th>3</th>\n",
       "      <td>22500</td>\n",
       "      <td>2</td>\n",
       "      <td>1.0</td>\n",
       "      <td>0.0</td>\n",
       "    </tr>\n",
       "    <tr>\n",
       "      <th>4</th>\n",
       "      <td>46000</td>\n",
       "      <td>4</td>\n",
       "      <td>1.0</td>\n",
       "      <td>0.0</td>\n",
       "    </tr>\n",
       "    <tr>\n",
       "      <th>5</th>\n",
       "      <td>59000</td>\n",
       "      <td>5</td>\n",
       "      <td>0.0</td>\n",
       "      <td>0.0</td>\n",
       "    </tr>\n",
       "    <tr>\n",
       "      <th>6</th>\n",
       "      <td>52000</td>\n",
       "      <td>5</td>\n",
       "      <td>0.0</td>\n",
       "      <td>0.0</td>\n",
       "    </tr>\n",
       "    <tr>\n",
       "      <th>7</th>\n",
       "      <td>72000</td>\n",
       "      <td>6</td>\n",
       "      <td>0.0</td>\n",
       "      <td>0.0</td>\n",
       "    </tr>\n",
       "    <tr>\n",
       "      <th>8</th>\n",
       "      <td>91000</td>\n",
       "      <td>8</td>\n",
       "      <td>0.0</td>\n",
       "      <td>0.0</td>\n",
       "    </tr>\n",
       "    <tr>\n",
       "      <th>9</th>\n",
       "      <td>67000</td>\n",
       "      <td>6</td>\n",
       "      <td>0.0</td>\n",
       "      <td>1.0</td>\n",
       "    </tr>\n",
       "    <tr>\n",
       "      <th>10</th>\n",
       "      <td>83000</td>\n",
       "      <td>7</td>\n",
       "      <td>0.0</td>\n",
       "      <td>1.0</td>\n",
       "    </tr>\n",
       "    <tr>\n",
       "      <th>11</th>\n",
       "      <td>79000</td>\n",
       "      <td>7</td>\n",
       "      <td>0.0</td>\n",
       "      <td>1.0</td>\n",
       "    </tr>\n",
       "    <tr>\n",
       "      <th>12</th>\n",
       "      <td>59000</td>\n",
       "      <td>5</td>\n",
       "      <td>0.0</td>\n",
       "      <td>1.0</td>\n",
       "    </tr>\n",
       "  </tbody>\n",
       "</table>\n",
       "</div>"
      ],
      "text/plain": [
       "    Mileage  Age(yrs)  BMW  Mercedes\n",
       "0     69000         6  1.0       0.0\n",
       "1     35000         3  1.0       0.0\n",
       "2     57000         5  1.0       0.0\n",
       "3     22500         2  1.0       0.0\n",
       "4     46000         4  1.0       0.0\n",
       "5     59000         5  0.0       0.0\n",
       "6     52000         5  0.0       0.0\n",
       "7     72000         6  0.0       0.0\n",
       "8     91000         8  0.0       0.0\n",
       "9     67000         6  0.0       1.0\n",
       "10    83000         7  0.0       1.0\n",
       "11    79000         7  0.0       1.0\n",
       "12    59000         5  0.0       1.0"
      ]
     },
     "execution_count": 11,
     "metadata": {},
     "output_type": "execute_result"
    }
   ],
   "source": [
    "# X = X.drop(columns=['Car Model'])\n",
    "x = x.drop(columns=['Audi','Car Model'],errors='ignore')\n",
    "x"
   ]
  },
  {
   "cell_type": "code",
   "execution_count": 12,
   "id": "f18516d7",
   "metadata": {},
   "outputs": [
    {
     "data": {
      "text/plain": [
       "0     18000\n",
       "1     34000\n",
       "2     26100\n",
       "3     40000\n",
       "4     31500\n",
       "5     29400\n",
       "6     32000\n",
       "7     19300\n",
       "8     12000\n",
       "9     22000\n",
       "10    20000\n",
       "11    21000\n",
       "12    33000\n",
       "Name: Sell Price($), dtype: int64"
      ]
     },
     "execution_count": 12,
     "metadata": {},
     "output_type": "execute_result"
    }
   ],
   "source": [
    "y"
   ]
  },
  {
   "cell_type": "code",
   "execution_count": 13,
   "id": "77392147",
   "metadata": {},
   "outputs": [
    {
     "name": "stdout",
     "output_type": "stream",
     "text": [
      "0.9417050937281082\n"
     ]
    }
   ],
   "source": [
    "L_Reg.fit(X.values,y)\n",
    "print(L_Reg.score(X.values,y))"
   ]
  },
  {
   "cell_type": "markdown",
   "id": "4257c77c",
   "metadata": {},
   "source": [
    "### Saving Models using pickle and joblib"
   ]
  },
  {
   "cell_type": "code",
   "execution_count": 16,
   "id": "1db9164b",
   "metadata": {},
   "outputs": [],
   "source": [
    "# Saving Models\n",
    "import pickle as pk\n",
    "with open('model_pickle','wb') as pkf:\n",
    "    pk.dump(L_Reg,pkf)"
   ]
  },
  {
   "cell_type": "code",
   "execution_count": 15,
   "id": "62998b8c",
   "metadata": {},
   "outputs": [
    {
     "data": {
      "text/plain": [
       "array([36991.31721061])"
      ]
     },
     "execution_count": 15,
     "metadata": {},
     "output_type": "execute_result"
    }
   ],
   "source": [
    "# opening saved model\n",
    "with open('model_pickle','rb') as pkfr:\n",
    "    modelpk= pk.load(pkfr)\n",
    "modelpk.predict([[45000,4,0,1]])# 4 yr old mercedes with 45000 mileage"
   ]
  },
  {
   "cell_type": "code",
   "execution_count": 18,
   "id": "31270a26",
   "metadata": {},
   "outputs": [],
   "source": [
    "import joblib as jb\n",
    "with open('model_joblib','wb') as jbf:\n",
    "    jb.dump(L_Reg,jbf)"
   ]
  },
  {
   "cell_type": "code",
   "execution_count": 19,
   "id": "25222246",
   "metadata": {},
   "outputs": [
    {
     "data": {
      "text/plain": [
       "array([36991.31721061])"
      ]
     },
     "execution_count": 19,
     "metadata": {},
     "output_type": "execute_result"
    }
   ],
   "source": [
    "with open('model_pickle','rb') as jbfr:\n",
    "    modeljb = jb.load(jbfr)\n",
    "modeljb.predict([[45000,4,0,1]])# 4 yr old mercedes with 45000 mileage"
   ]
  },
  {
   "cell_type": "markdown",
   "id": "fb8136ac",
   "metadata": {},
   "source": [
    "### joblib vs pickle\n",
    "\n",
    "joblib is faster in saving/loading large NumPy arrays, \n",
    "whereas pickle is faster with large collections of Python objects. \n",
    "Therefore, if your model contains large NumPy arrays (as the majority of models does), \n",
    "joblib should be faster"
   ]
  },
  {
   "cell_type": "code",
   "execution_count": null,
   "id": "c641adef",
   "metadata": {},
   "outputs": [],
   "source": []
  }
 ],
 "metadata": {
  "kernelspec": {
   "display_name": "Python 3 (ipykernel)",
   "language": "python",
   "name": "python3"
  },
  "language_info": {
   "codemirror_mode": {
    "name": "ipython",
    "version": 3
   },
   "file_extension": ".py",
   "mimetype": "text/x-python",
   "name": "python",
   "nbconvert_exporter": "python",
   "pygments_lexer": "ipython3",
   "version": "3.9.13"
  }
 },
 "nbformat": 4,
 "nbformat_minor": 5
}
